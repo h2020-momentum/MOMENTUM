{
 "metadata": {
  "language_info": {
   "codemirror_mode": {
    "name": "ipython",
    "version": 3
   },
   "file_extension": ".py",
   "mimetype": "text/x-python",
   "name": "python",
   "nbconvert_exporter": "python",
   "pygments_lexer": "ipython3",
   "version": "3.8.5-final"
  },
  "orig_nbformat": 2,
  "kernelspec": {
   "name": "python385jvsc74a57bd042ad395ed27b1cd77b2956828f8325a46d439e9aa1d167ed3d04d4567b92c37c",
   "display_name": "Python 3.8.5 64-bit (conda)"
  }
 },
 "nbformat": 4,
 "nbformat_minor": 2,
 "cells": [
  {
   "cell_type": "code",
   "execution_count": 1,
   "metadata": {},
   "outputs": [],
   "source": [
    "import json\n",
    "import numpy as np \n",
    "import pandas as pd \n"
   ]
  },
  {
   "cell_type": "code",
   "execution_count": 46,
   "metadata": {},
   "outputs": [
    {
     "output_type": "stream",
     "name": "stdout",
     "text": [
      "{'0': {'access_time': 8.0, 'waiting_time': 4.0, 'trip_time': 6.0, 'stop_id': 4.0, 'end_stop_id': 5.0}, '1': {'access_time': 12.0, 'waiting_time': 9.0, 'trip_time': 5.0, 'stop_id': 6.0, 'end_stop_id': 5.0}, '2': {'access_time': 7.0, 'waiting_time': 5.0, 'trip_time': 4.0, 'stop_id': 2.0, 'end_stop_id': 7.0}, '3': {'access_time': 3.0, 'waiting_time': 4.0, 'trip_time': 10.0, 'stop_id': 4.0, 'end_stop_id': 4.0}, '4': {'access_time': 10.0, 'waiting_time': 3.0, 'trip_time': 3.0, 'stop_id': 8.0, 'end_stop_id': 5.0}, '5': {'access_time': 5.0, 'waiting_time': 7.0, 'trip_time': 9.0, 'stop_id': 4.0, 'end_stop_id': 1.0}, '6': {'access_time': 13.0, 'waiting_time': 9.0, 'trip_time': 4.0, 'stop_id': 1.0, 'end_stop_id': 4.0}, '7': {'access_time': 8.0, 'waiting_time': 10.0, 'trip_time': 9.0, 'stop_id': 9.0, 'end_stop_id': 3.0}, '8': {'access_time': 6.0, 'waiting_time': 3.0, 'trip_time': 6.0, 'stop_id': 1.0, 'end_stop_id': 5.0}, '9': {'access_time': 4.0, 'waiting_time': 6.0, 'trip_time': 11.0, 'stop_id': 6.0, 'end_stop_id': 7.0}, '10': {'access_time': 3.0, 'waiting_time': 4.0, 'trip_time': 9.0, 'stop_id': 9.0, 'end_stop_id': 6.0}, '11': {'access_time': 8.0, 'waiting_time': 4.0, 'trip_time': 6.0, 'stop_id': 9.0, 'end_stop_id': 1.0}, '12': {'access_time': 8.0, 'waiting_time': 11.0, 'trip_time': 9.0, 'stop_id': 2.0, 'end_stop_id': 1.0}, '13': {'access_time': 8.0, 'waiting_time': 4.0, 'trip_time': 4.0, 'stop_id': 1.0, 'end_stop_id': 9.0}, '14': {'access_time': 7.0, 'waiting_time': 3.0, 'trip_time': 9.0, 'stop_id': 4.0, 'end_stop_id': 9.0}, '15': {'access_time': 14.0, 'waiting_time': 5.0, 'trip_time': 4.0, 'stop_id': 4.0, 'end_stop_id': 8.0}, '16': {'access_time': 4.0, 'waiting_time': 10.0, 'trip_time': 4.0, 'stop_id': 1.0, 'end_stop_id': 8.0}, '17': {'access_time': 3.0, 'waiting_time': 5.0, 'trip_time': 4.0, 'stop_id': 6.0, 'end_stop_id': 1.0}, '18': {'access_time': 5.0, 'waiting_time': 5.0, 'trip_time': 3.0, 'stop_id': 9.0, 'end_stop_id': 4.0}, '19': {'access_time': 5.0, 'waiting_time': 3.0, 'trip_time': 3.0, 'stop_id': 4.0, 'end_stop_id': 5.0}, '20': {'access_time': 14.0, 'waiting_time': 8.0, 'trip_time': 9.0, 'stop_id': 7.0, 'end_stop_id': 4.0}, '21': {'access_time': 11.0, 'waiting_time': 8.0, 'trip_time': 10.0, 'stop_id': 3.0, 'end_stop_id': 8.0}, '22': {'access_time': 7.0, 'waiting_time': 10.0, 'trip_time': 3.0, 'stop_id': 7.0, 'end_stop_id': 4.0}, '23': {'access_time': 8.0, 'waiting_time': 6.0, 'trip_time': 8.0, 'stop_id': 4.0, 'end_stop_id': 6.0}, '24': {'access_time': 10.0, 'waiting_time': 6.0, 'trip_time': 4.0, 'stop_id': 4.0, 'end_stop_id': 7.0}, '25': {'access_time': 14.0, 'waiting_time': 6.0, 'trip_time': 8.0, 'stop_id': 3.0, 'end_stop_id': 1.0}, '26': {'access_time': 14.0, 'waiting_time': 6.0, 'trip_time': 7.0, 'stop_id': 4.0, 'end_stop_id': 5.0}, '27': {'access_time': 8.0, 'waiting_time': 3.0, 'trip_time': 7.0, 'stop_id': 5.0, 'end_stop_id': 5.0}, '28': {'access_time': 5.0, 'waiting_time': 7.0, 'trip_time': 5.0, 'stop_id': 9.0, 'end_stop_id': 5.0}, '29': {'access_time': 13.0, 'waiting_time': 9.0, 'trip_time': 7.0, 'stop_id': 5.0, 'end_stop_id': 5.0}, '30': {'access_time': 6.0, 'waiting_time': 3.0, 'trip_time': 10.0, 'stop_id': 6.0, 'end_stop_id': 9.0}, '31': {'access_time': 6.0, 'waiting_time': 9.0, 'trip_time': 5.0, 'stop_id': 2.0, 'end_stop_id': 9.0}, '32': {'access_time': 11.0, 'waiting_time': 8.0, 'trip_time': 9.0, 'stop_id': 2.0, 'end_stop_id': 8.0}, '33': {'access_time': 13.0, 'waiting_time': 5.0, 'trip_time': 10.0, 'stop_id': 6.0, 'end_stop_id': 8.0}, '34': {'access_time': 7.0, 'waiting_time': 11.0, 'trip_time': 11.0, 'stop_id': 2.0, 'end_stop_id': 5.0}, '35': {'access_time': 3.0, 'waiting_time': 4.0, 'trip_time': 11.0, 'stop_id': 6.0, 'end_stop_id': 5.0}, '36': {'access_time': 12.0, 'waiting_time': 11.0, 'trip_time': 10.0, 'stop_id': 2.0, 'end_stop_id': 8.0}, '37': {'access_time': 8.0, 'waiting_time': 6.0, 'trip_time': 10.0, 'stop_id': 6.0, 'end_stop_id': 4.0}, '38': {'access_time': 14.0, 'waiting_time': 11.0, 'trip_time': 7.0, 'stop_id': 4.0, 'end_stop_id': 1.0}, '39': {'access_time': 12.0, 'waiting_time': 6.0, 'trip_time': 5.0, 'stop_id': 3.0, 'end_stop_id': 4.0}, '40': {'access_time': 14.0, 'waiting_time': 10.0, 'trip_time': 9.0, 'stop_id': 9.0, 'end_stop_id': 8.0}, '41': {'access_time': 9.0, 'waiting_time': 6.0, 'trip_time': 6.0, 'stop_id': 9.0, 'end_stop_id': 5.0}, '42': {'access_time': 5.0, 'waiting_time': 5.0, 'trip_time': 6.0, 'stop_id': 8.0, 'end_stop_id': 6.0}, '43': {'access_time': 9.0, 'waiting_time': 6.0, 'trip_time': 4.0, 'stop_id': 1.0, 'end_stop_id': 4.0}, '44': {'access_time': 11.0, 'waiting_time': 10.0, 'trip_time': 9.0, 'stop_id': 5.0, 'end_stop_id': 5.0}, '45': {'access_time': 13.0, 'waiting_time': 9.0, 'trip_time': 10.0, 'stop_id': 6.0, 'end_stop_id': 3.0}, '46': {'access_time': 3.0, 'waiting_time': 9.0, 'trip_time': 7.0, 'stop_id': 3.0, 'end_stop_id': 5.0}, '47': {'access_time': 13.0, 'waiting_time': 10.0, 'trip_time': 3.0, 'stop_id': 5.0, 'end_stop_id': 7.0}, '48': {'access_time': 10.0, 'waiting_time': 9.0, 'trip_time': 9.0, 'stop_id': 5.0, 'end_stop_id': 7.0}, '49': {'access_time': 14.0, 'waiting_time': 5.0, 'trip_time': 9.0, 'stop_id': 9.0, 'end_stop_id': 6.0}, '50': {'access_time': 6.0, 'waiting_time': 11.0, 'trip_time': 9.0, 'stop_id': 1.0, 'end_stop_id': 6.0}, '51': {'access_time': 5.0, 'waiting_time': 6.0, 'trip_time': 4.0, 'stop_id': 4.0, 'end_stop_id': 9.0}, '52': {'access_time': 11.0, 'waiting_time': 9.0, 'trip_time': 10.0, 'stop_id': 4.0, 'end_stop_id': 6.0}, '53': {'access_time': 12.0, 'waiting_time': 7.0, 'trip_time': 9.0, 'stop_id': 8.0, 'end_stop_id': 1.0}, '54': {'access_time': 8.0, 'waiting_time': 4.0, 'trip_time': 10.0, 'stop_id': 6.0, 'end_stop_id': 4.0}, '55': {'access_time': 12.0, 'waiting_time': 7.0, 'trip_time': 7.0, 'stop_id': 7.0, 'end_stop_id': 4.0}, '56': {'access_time': 7.0, 'waiting_time': 3.0, 'trip_time': 6.0, 'stop_id': 7.0, 'end_stop_id': 5.0}, '57': {'access_time': 13.0, 'waiting_time': 8.0, 'trip_time': 7.0, 'stop_id': 1.0, 'end_stop_id': 4.0}, '58': {'access_time': 10.0, 'waiting_time': 8.0, 'trip_time': 11.0, 'stop_id': 4.0, 'end_stop_id': 3.0}, '59': {'access_time': 13.0, 'waiting_time': 4.0, 'trip_time': 5.0, 'stop_id': 4.0, 'end_stop_id': 7.0}, '60': {'access_time': 12.0, 'waiting_time': 6.0, 'trip_time': 7.0, 'stop_id': 4.0, 'end_stop_id': 6.0}, '61': {'access_time': 10.0, 'waiting_time': 5.0, 'trip_time': 5.0, 'stop_id': 6.0, 'end_stop_id': 2.0}, '62': {'access_time': 3.0, 'waiting_time': 8.0, 'trip_time': 6.0, 'stop_id': 4.0, 'end_stop_id': 5.0}, '63': {'access_time': 4.0, 'waiting_time': 4.0, 'trip_time': 7.0, 'stop_id': 4.0, 'end_stop_id': 1.0}, '64': {'access_time': 13.0, 'waiting_time': 5.0, 'trip_time': 8.0, 'stop_id': 3.0, 'end_stop_id': 7.0}, '65': {'access_time': 7.0, 'waiting_time': 7.0, 'trip_time': 7.0, 'stop_id': 2.0, 'end_stop_id': 9.0}, '66': {'access_time': 9.0, 'waiting_time': 5.0, 'trip_time': 4.0, 'stop_id': 7.0, 'end_stop_id': 5.0}, '67': {'access_time': 7.0, 'waiting_time': 10.0, 'trip_time': 5.0, 'stop_id': 2.0, 'end_stop_id': 4.0}, '68': {'access_time': 8.0, 'waiting_time': 6.0, 'trip_time': 5.0, 'stop_id': 6.0, 'end_stop_id': 4.0}, '69': {'access_time': 13.0, 'waiting_time': 9.0, 'trip_time': 5.0, 'stop_id': 7.0, 'end_stop_id': 2.0}, '70': {'access_time': 12.0, 'waiting_time': 11.0, 'trip_time': 7.0, 'stop_id': 5.0, 'end_stop_id': 1.0}, '71': {'access_time': 6.0, 'waiting_time': 4.0, 'trip_time': 5.0, 'stop_id': 9.0, 'end_stop_id': 8.0}, '72': {'access_time': 10.0, 'waiting_time': 4.0, 'trip_time': 7.0, 'stop_id': 7.0, 'end_stop_id': 3.0}, '73': {'access_time': 12.0, 'waiting_time': 9.0, 'trip_time': 11.0, 'stop_id': 8.0, 'end_stop_id': 1.0}, '74': {'access_time': 3.0, 'waiting_time': 5.0, 'trip_time': 8.0, 'stop_id': 1.0, 'end_stop_id': 5.0}, '75': {'access_time': 6.0, 'waiting_time': 11.0, 'trip_time': 4.0, 'stop_id': 3.0, 'end_stop_id': 4.0}, '76': {'access_time': 4.0, 'waiting_time': 11.0, 'trip_time': 11.0, 'stop_id': 6.0, 'end_stop_id': 2.0}, '77': {'access_time': 8.0, 'waiting_time': 10.0, 'trip_time': 9.0, 'stop_id': 6.0, 'end_stop_id': 3.0}, '78': {'access_time': 9.0, 'waiting_time': 8.0, 'trip_time': 5.0, 'stop_id': 2.0, 'end_stop_id': 8.0}, '79': {'access_time': 10.0, 'waiting_time': 7.0, 'trip_time': 9.0, 'stop_id': 8.0, 'end_stop_id': 2.0}, '80': {'access_time': 5.0, 'waiting_time': 4.0, 'trip_time': 10.0, 'stop_id': 7.0, 'end_stop_id': 1.0}, '81': {'access_time': 5.0, 'waiting_time': 5.0, 'trip_time': 6.0, 'stop_id': 6.0, 'end_stop_id': 8.0}, '82': {'access_time': 8.0, 'waiting_time': 6.0, 'trip_time': 11.0, 'stop_id': 5.0, 'end_stop_id': 4.0}, '83': {'access_time': 13.0, 'waiting_time': 9.0, 'trip_time': 4.0, 'stop_id': 9.0, 'end_stop_id': 8.0}, '84': {'access_time': 7.0, 'waiting_time': 4.0, 'trip_time': 10.0, 'stop_id': 1.0, 'end_stop_id': 5.0}, '85': {'access_time': 12.0, 'waiting_time': 10.0, 'trip_time': 3.0, 'stop_id': 3.0, 'end_stop_id': 7.0}, '86': {'access_time': 14.0, 'waiting_time': 10.0, 'trip_time': 6.0, 'stop_id': 1.0, 'end_stop_id': 1.0}, '87': {'access_time': 14.0, 'waiting_time': 9.0, 'trip_time': 9.0, 'stop_id': 3.0, 'end_stop_id': 7.0}, '88': {'access_time': 10.0, 'waiting_time': 3.0, 'trip_time': 8.0, 'stop_id': 3.0, 'end_stop_id': 7.0}, '89': {'access_time': 6.0, 'waiting_time': 3.0, 'trip_time': 5.0, 'stop_id': 6.0, 'end_stop_id': 3.0}, '90': {'access_time': 4.0, 'waiting_time': 11.0, 'trip_time': 10.0, 'stop_id': 1.0, 'end_stop_id': 6.0}, '91': {'access_time': 14.0, 'waiting_time': 8.0, 'trip_time': 3.0, 'stop_id': 8.0, 'end_stop_id': 7.0}, '92': {'access_time': 8.0, 'waiting_time': 7.0, 'trip_time': 5.0, 'stop_id': 4.0, 'end_stop_id': 8.0}, '93': {'access_time': 14.0, 'waiting_time': 11.0, 'trip_time': 6.0, 'stop_id': 9.0, 'end_stop_id': 2.0}, '94': {'access_time': 4.0, 'waiting_time': 6.0, 'trip_time': 6.0, 'stop_id': 3.0, 'end_stop_id': 8.0}, '95': {'access_time': 6.0, 'waiting_time': 3.0, 'trip_time': 8.0, 'stop_id': 9.0, 'end_stop_id': 5.0}, '96': {'access_time': 6.0, 'waiting_time': 6.0, 'trip_time': 6.0, 'stop_id': 1.0, 'end_stop_id': 1.0}, '97': {'access_time': 3.0, 'waiting_time': 11.0, 'trip_time': 4.0, 'stop_id': 7.0, 'end_stop_id': 9.0}, '98': {'access_time': 6.0, 'waiting_time': 11.0, 'trip_time': 10.0, 'stop_id': 3.0, 'end_stop_id': 4.0}, '99': {'access_time': 4.0, 'waiting_time': 5.0, 'trip_time': 8.0, 'stop_id': 4.0, 'end_stop_id': 6.0}}\n"
     ]
    }
   ],
   "source": [
    "n = 100 \n",
    "stops= 10 \n",
    "vehs = 5 \n",
    "\n",
    "trip_res = {}\n",
    "for i in range(n):\n",
    "    access_time = float(np.random.randint(low = 3, high = 15))\n",
    "    waiting_time =float(np.random.randint(low = 3, high = 12, dtype = int))\n",
    "    trip_time  = float(np.random.randint(low = 3, high = 12, dtype = int))\n",
    "    stop_id = float(np.random.randint(low = 1, high = 10, dtype = int))\n",
    "    end_stop_id = float(np.random.randint(low = 1, high = 10, dtype = int))\n",
    "\n",
    "    t_dict = {'access_time': access_time, 'waiting_time':waiting_time, 'trip_time':trip_time,\n",
    "                'stop_id':stop_id, 'end_stop_id':end_stop_id}\n",
    "    trip_res[str(i)] = t_dict\n",
    "\n",
    "print(trip_res)"
   ]
  },
  {
   "cell_type": "code",
   "execution_count": null,
   "metadata": {},
   "outputs": [],
   "source": []
  },
  {
   "cell_type": "code",
   "execution_count": 5,
   "metadata": {},
   "outputs": [
    {
     "output_type": "execute_result",
     "data": {
      "text/plain": [
       "    access_time  waiting_time  trip_time  stop_id  end_stop_id\n",
       "0            11             3          8        9            9\n",
       "1            14             6          8        1            2\n",
       "2             5             7          7        5            4\n",
       "3             5             5          5        1            2\n",
       "4             5             4          7        8            7\n",
       "..          ...           ...        ...      ...          ...\n",
       "95           14            11          3        3            4\n",
       "96            3            10          8        7            1\n",
       "97           14            10          6        7            7\n",
       "98            3             3         10        9            1\n",
       "99            6            10         10        7            2\n",
       "\n",
       "[100 rows x 5 columns]"
      ],
      "text/html": "<div>\n<style scoped>\n    .dataframe tbody tr th:only-of-type {\n        vertical-align: middle;\n    }\n\n    .dataframe tbody tr th {\n        vertical-align: top;\n    }\n\n    .dataframe thead th {\n        text-align: right;\n    }\n</style>\n<table border=\"1\" class=\"dataframe\">\n  <thead>\n    <tr style=\"text-align: right;\">\n      <th></th>\n      <th>access_time</th>\n      <th>waiting_time</th>\n      <th>trip_time</th>\n      <th>stop_id</th>\n      <th>end_stop_id</th>\n    </tr>\n  </thead>\n  <tbody>\n    <tr>\n      <th>0</th>\n      <td>11</td>\n      <td>3</td>\n      <td>8</td>\n      <td>9</td>\n      <td>9</td>\n    </tr>\n    <tr>\n      <th>1</th>\n      <td>14</td>\n      <td>6</td>\n      <td>8</td>\n      <td>1</td>\n      <td>2</td>\n    </tr>\n    <tr>\n      <th>2</th>\n      <td>5</td>\n      <td>7</td>\n      <td>7</td>\n      <td>5</td>\n      <td>4</td>\n    </tr>\n    <tr>\n      <th>3</th>\n      <td>5</td>\n      <td>5</td>\n      <td>5</td>\n      <td>1</td>\n      <td>2</td>\n    </tr>\n    <tr>\n      <th>4</th>\n      <td>5</td>\n      <td>4</td>\n      <td>7</td>\n      <td>8</td>\n      <td>7</td>\n    </tr>\n    <tr>\n      <th>...</th>\n      <td>...</td>\n      <td>...</td>\n      <td>...</td>\n      <td>...</td>\n      <td>...</td>\n    </tr>\n    <tr>\n      <th>95</th>\n      <td>14</td>\n      <td>11</td>\n      <td>3</td>\n      <td>3</td>\n      <td>4</td>\n    </tr>\n    <tr>\n      <th>96</th>\n      <td>3</td>\n      <td>10</td>\n      <td>8</td>\n      <td>7</td>\n      <td>1</td>\n    </tr>\n    <tr>\n      <th>97</th>\n      <td>14</td>\n      <td>10</td>\n      <td>6</td>\n      <td>7</td>\n      <td>7</td>\n    </tr>\n    <tr>\n      <th>98</th>\n      <td>3</td>\n      <td>3</td>\n      <td>10</td>\n      <td>9</td>\n      <td>1</td>\n    </tr>\n    <tr>\n      <th>99</th>\n      <td>6</td>\n      <td>10</td>\n      <td>10</td>\n      <td>7</td>\n      <td>2</td>\n    </tr>\n  </tbody>\n</table>\n<p>100 rows × 5 columns</p>\n</div>"
     },
     "metadata": {},
     "execution_count": 5
    }
   ],
   "source": [
    "pd.DataFrame.from_dict(trip_res, orient= 'index')"
   ]
  },
  {
   "cell_type": "code",
   "execution_count": 47,
   "metadata": {
    "tags": []
   },
   "outputs": [
    {
     "output_type": "stream",
     "name": "stdout",
     "text": [
      "{'0': 1.0, '1': 1.0, '2': 1.0, '3': 1.0, '4': 1.0, '5': 1.0, '6': 1.0, '7': 1.0, '8': 1.0, '9': 1.0, '10': 1.0, '11': 1.0, '12': 1.0, '13': 0.0, '14': 1.0, '15': 1.0, '16': 1.0, '17': 1.0, '18': 1.0, '19': 1.0, '20': 1.0, '21': 1.0, '22': 1.0, '23': 1.0, '24': 1.0, '25': 1.0, '26': 1.0, '27': 1.0, '28': 0.0, '29': 1.0, '30': 1.0, '31': 0.0, '32': 0.0, '33': 1.0, '34': 1.0, '35': 1.0, '36': 1.0, '37': 1.0, '38': 0.0, '39': 1.0, '40': 1.0, '41': 1.0, '42': 0.0, '43': 1.0, '44': 1.0, '45': 1.0, '46': 1.0, '47': 1.0, '48': 1.0, '49': 1.0, '50': 1.0, '51': 1.0, '52': 1.0, '53': 1.0, '54': 1.0, '55': 1.0, '56': 1.0, '57': 1.0, '58': 1.0, '59': 1.0, '60': 1.0, '61': 1.0, '62': 1.0, '63': 1.0, '64': 1.0, '65': 1.0, '66': 0.0, '67': 1.0, '68': 0.0, '69': 1.0, '70': 1.0, '71': 1.0, '72': 1.0, '73': 1.0, '74': 1.0, '75': 1.0, '76': 0.0, '77': 1.0, '78': 1.0, '79': 1.0, '80': 1.0, '81': 1.0, '82': 1.0, '83': 1.0, '84': 0.0, '85': 1.0, '86': 0.0, '87': 1.0, '88': 1.0, '89': 1.0, '90': 1.0, '91': 1.0, '92': 1.0, '93': 1.0, '94': 1.0, '95': 0.0, '96': 1.0, '97': 1.0, '98': 1.0, '99': 1.0, '100': 1.0, '101': 1.0, '102': 1.0, '103': 1.0, '104': 0.0, '105': 1.0, '106': 1.0, '107': 0.0, '108': 1.0, '109': 1.0, '110': 1.0, '111': 1.0, '112': 0.0, '113': 1.0, '114': 1.0, '115': 1.0, '116': 1.0, '117': 1.0, '118': 1.0, '119': 1.0, '120': 1.0, '121': 1.0, '122': 1.0, '123': 0.0, '124': 1.0, '125': 1.0, '126': 1.0, '127': 1.0, '128': 1.0, '129': 1.0}\n"
     ]
    }
   ],
   "source": [
    "tot_requests = 130\n",
    "open_reqs = {str(i) : float( np.random.choice((0,1), 1, p=[0.1,0.9]).tolist()[0]) for i in range(tot_requests)}\n",
    "print(open_reqs)"
   ]
  },
  {
   "cell_type": "code",
   "execution_count": 48,
   "metadata": {},
   "outputs": [
    {
     "output_type": "execute_result",
     "data": {
      "text/plain": [
       "{'1': {'0': {'duration_mins': 32,\n",
       "   'capacity_ratio': 0.6656681548706591,\n",
       "   'route_dist': 17.98319418810908},\n",
       "  '1': {'duration_mins': 34,\n",
       "   'capacity_ratio': 0.6394343632323926,\n",
       "   'route_dist': 14.92552701925348},\n",
       "  '2': {'duration_mins': 30,\n",
       "   'capacity_ratio': 0.7923585746159323,\n",
       "   'route_dist': 15.558391151742367},\n",
       "  '3': {'duration_mins': 37,\n",
       "   'capacity_ratio': 0.42076311195981075,\n",
       "   'route_dist': 16.5455517135618},\n",
       "  '4': {'duration_mins': 38,\n",
       "   'capacity_ratio': 0.403755470565242,\n",
       "   'route_dist': 19.39162583265263},\n",
       "  '5': {'duration_mins': 30,\n",
       "   'capacity_ratio': 0.8172085786008891,\n",
       "   'route_dist': 14.586033036652257},\n",
       "  '6': {'duration_mins': 43,\n",
       "   'capacity_ratio': 0.862399292105062,\n",
       "   'route_dist': 19.210277168525188},\n",
       "  '7': {'duration_mins': 37,\n",
       "   'capacity_ratio': 0.594822664956753,\n",
       "   'route_dist': 20.961278100182987},\n",
       "  '8': {'duration_mins': 35,\n",
       "   'capacity_ratio': 0.3201489678225395,\n",
       "   'route_dist': 18.954530644074225},\n",
       "  '9': {'duration_mins': 46,\n",
       "   'capacity_ratio': 0.7672025762655161,\n",
       "   'route_dist': 23.93968278671929},\n",
       "  '10': {'duration_mins': 37,\n",
       "   'capacity_ratio': 0.6968905692547236,\n",
       "   'route_dist': 17.372648114213625},\n",
       "  '11': {'duration_mins': 49,\n",
       "   'capacity_ratio': 0.3441460251063674,\n",
       "   'route_dist': 23.652882905143194},\n",
       "  '12': {'duration_mins': 30,\n",
       "   'capacity_ratio': 0.354642125224871,\n",
       "   'route_dist': 15.24197265116399},\n",
       "  '13': {'duration_mins': 45,\n",
       "   'capacity_ratio': 0.6256005269517677,\n",
       "   'route_dist': 21.112756074038327},\n",
       "  '14': {'duration_mins': 35,\n",
       "   'capacity_ratio': 0.49559822342842796,\n",
       "   'route_dist': 18.42946085420661},\n",
       "  '15': {'duration_mins': 32,\n",
       "   'capacity_ratio': 0.4955863989456094,\n",
       "   'route_dist': 16.08048857264979},\n",
       "  '16': {'duration_mins': 34,\n",
       "   'capacity_ratio': 0.8354452731819104,\n",
       "   'route_dist': 14.682233624580112},\n",
       "  '17': {'duration_mins': 34,\n",
       "   'capacity_ratio': 0.8150232155446617,\n",
       "   'route_dist': 16.56832124698077},\n",
       "  '18': {'duration_mins': 36,\n",
       "   'capacity_ratio': 0.5368758011304505,\n",
       "   'route_dist': 16.987811120473328},\n",
       "  '19': {'duration_mins': 45,\n",
       "   'capacity_ratio': 0.4511266979068902,\n",
       "   'route_dist': 20.2962862356729}},\n",
       " '2': {'0': {'duration_mins': 37,\n",
       "   'capacity_ratio': 0.36834524662958384,\n",
       "   'route_dist': 20.429675862632863},\n",
       "  '1': {'duration_mins': 45,\n",
       "   'capacity_ratio': 0.8155058826684802,\n",
       "   'route_dist': 19.292677787839594},\n",
       "  '2': {'duration_mins': 44,\n",
       "   'capacity_ratio': 0.6092882834860306,\n",
       "   'route_dist': 20.12259485705742},\n",
       "  '3': {'duration_mins': 46,\n",
       "   'capacity_ratio': 0.6956986967039531,\n",
       "   'route_dist': 21.946683679056257},\n",
       "  '4': {'duration_mins': 38,\n",
       "   'capacity_ratio': 0.4345838096322918,\n",
       "   'route_dist': 21.498155398929267},\n",
       "  '5': {'duration_mins': 34,\n",
       "   'capacity_ratio': 0.4800456962840932,\n",
       "   'route_dist': 15.20418951019829},\n",
       "  '6': {'duration_mins': 31,\n",
       "   'capacity_ratio': 0.48109579834494004,\n",
       "   'route_dist': 13.595562770550574},\n",
       "  '7': {'duration_mins': 33,\n",
       "   'capacity_ratio': 0.3975509233583813,\n",
       "   'route_dist': 16.007195362969075},\n",
       "  '8': {'duration_mins': 37,\n",
       "   'capacity_ratio': 0.5630240790315298,\n",
       "   'route_dist': 16.149673419416484},\n",
       "  '9': {'duration_mins': 35,\n",
       "   'capacity_ratio': 0.6790169175195901,\n",
       "   'route_dist': 17.462389168741208},\n",
       "  '10': {'duration_mins': 33,\n",
       "   'capacity_ratio': 0.6396269619663808,\n",
       "   'route_dist': 19.963745776666336},\n",
       "  '11': {'duration_mins': 45,\n",
       "   'capacity_ratio': 0.840639559804454,\n",
       "   'route_dist': 21.386790066122956},\n",
       "  '12': {'duration_mins': 31,\n",
       "   'capacity_ratio': 0.6168296358001963,\n",
       "   'route_dist': 17.877803482783737},\n",
       "  '13': {'duration_mins': 47,\n",
       "   'capacity_ratio': 0.38997202509940093,\n",
       "   'route_dist': 24.686139585811812},\n",
       "  '14': {'duration_mins': 46,\n",
       "   'capacity_ratio': 0.7908545228634363,\n",
       "   'route_dist': 21.890347201831137},\n",
       "  '15': {'duration_mins': 45,\n",
       "   'capacity_ratio': 0.33889008552735134,\n",
       "   'route_dist': 22.45234142099311},\n",
       "  '16': {'duration_mins': 32,\n",
       "   'capacity_ratio': 0.8634139378940298,\n",
       "   'route_dist': 17.51532382150558},\n",
       "  '17': {'duration_mins': 47,\n",
       "   'capacity_ratio': 0.8527980306060992,\n",
       "   'route_dist': 21.342769450784857},\n",
       "  '18': {'duration_mins': 46,\n",
       "   'capacity_ratio': 0.5315807351454422,\n",
       "   'route_dist': 25.659027777230826},\n",
       "  '19': {'duration_mins': 34,\n",
       "   'capacity_ratio': 0.8998743037492052,\n",
       "   'route_dist': 17.603704796172476}},\n",
       " '3': {'0': {'duration_mins': 38,\n",
       "   'capacity_ratio': 0.4336556465608451,\n",
       "   'route_dist': 17.15300814151756},\n",
       "  '1': {'duration_mins': 38,\n",
       "   'capacity_ratio': 0.5057409746367928,\n",
       "   'route_dist': 20.640160711492065},\n",
       "  '2': {'duration_mins': 43,\n",
       "   'capacity_ratio': 0.33864503411064006,\n",
       "   'route_dist': 21.71580204327034},\n",
       "  '3': {'duration_mins': 43,\n",
       "   'capacity_ratio': 0.5089801169847011,\n",
       "   'route_dist': 21.66898904922828},\n",
       "  '4': {'duration_mins': 43,\n",
       "   'capacity_ratio': 0.33932192821267715,\n",
       "   'route_dist': 23.562404839807616},\n",
       "  '5': {'duration_mins': 44,\n",
       "   'capacity_ratio': 0.8472214287961313,\n",
       "   'route_dist': 21.467769316755565},\n",
       "  '6': {'duration_mins': 45,\n",
       "   'capacity_ratio': 0.8161511390884864,\n",
       "   'route_dist': 23.511978890245512},\n",
       "  '7': {'duration_mins': 38,\n",
       "   'capacity_ratio': 0.7966512157139463,\n",
       "   'route_dist': 17.4482235771336},\n",
       "  '8': {'duration_mins': 32,\n",
       "   'capacity_ratio': 0.5431846741061064,\n",
       "   'route_dist': 16.260344298479055},\n",
       "  '9': {'duration_mins': 33,\n",
       "   'capacity_ratio': 0.46264863243218596,\n",
       "   'route_dist': 15.857586072977032},\n",
       "  '10': {'duration_mins': 48,\n",
       "   'capacity_ratio': 0.7936448984287001,\n",
       "   'route_dist': 24.10613937618212},\n",
       "  '11': {'duration_mins': 44,\n",
       "   'capacity_ratio': 0.3701251266734007,\n",
       "   'route_dist': 20.229579480772006},\n",
       "  '12': {'duration_mins': 40,\n",
       "   'capacity_ratio': 0.5670099010664618,\n",
       "   'route_dist': 19.313306051839398},\n",
       "  '13': {'duration_mins': 33,\n",
       "   'capacity_ratio': 0.5158037813174334,\n",
       "   'route_dist': 16.69752803560191},\n",
       "  '14': {'duration_mins': 33,\n",
       "   'capacity_ratio': 0.5725452648071794,\n",
       "   'route_dist': 16.28924591447699},\n",
       "  '15': {'duration_mins': 42,\n",
       "   'capacity_ratio': 0.6705584109584872,\n",
       "   'route_dist': 18.300411837030346},\n",
       "  '16': {'duration_mins': 37,\n",
       "   'capacity_ratio': 0.784425790072237,\n",
       "   'route_dist': 20.086371147628558},\n",
       "  '17': {'duration_mins': 30,\n",
       "   'capacity_ratio': 0.6231705034926012,\n",
       "   'route_dist': 14.390366977525517},\n",
       "  '18': {'duration_mins': 49,\n",
       "   'capacity_ratio': 0.749995466050426,\n",
       "   'route_dist': 25.505631568583233},\n",
       "  '19': {'duration_mins': 45,\n",
       "   'capacity_ratio': 0.6619157068320674,\n",
       "   'route_dist': 20.829447689171964}},\n",
       " '4': {'0': {'duration_mins': 36,\n",
       "   'capacity_ratio': 0.8833217885236821,\n",
       "   'route_dist': 19.769497413327603},\n",
       "  '1': {'duration_mins': 41,\n",
       "   'capacity_ratio': 0.47964668121770826,\n",
       "   'route_dist': 20.970340154826083},\n",
       "  '2': {'duration_mins': 35,\n",
       "   'capacity_ratio': 0.501050512719488,\n",
       "   'route_dist': 16.29149141624605},\n",
       "  '3': {'duration_mins': 43,\n",
       "   'capacity_ratio': 0.3076758197371395,\n",
       "   'route_dist': 22.86719154453734},\n",
       "  '4': {'duration_mins': 38,\n",
       "   'capacity_ratio': 0.8743657757653747,\n",
       "   'route_dist': 18.268574798648377},\n",
       "  '5': {'duration_mins': 34,\n",
       "   'capacity_ratio': 0.8901429091593394,\n",
       "   'route_dist': 15.131782806357629},\n",
       "  '6': {'duration_mins': 45,\n",
       "   'capacity_ratio': 0.8586042387110233,\n",
       "   'route_dist': 22.16947991080924},\n",
       "  '7': {'duration_mins': 49,\n",
       "   'capacity_ratio': 0.8441327404384971,\n",
       "   'route_dist': 22.460317789458983},\n",
       "  '8': {'duration_mins': 38,\n",
       "   'capacity_ratio': 0.72360120882515,\n",
       "   'route_dist': 19.556528259415632},\n",
       "  '9': {'duration_mins': 46,\n",
       "   'capacity_ratio': 0.7099311129253518,\n",
       "   'route_dist': 22.853785862332046},\n",
       "  '10': {'duration_mins': 32,\n",
       "   'capacity_ratio': 0.8803476629385383,\n",
       "   'route_dist': 16.166532727956824},\n",
       "  '11': {'duration_mins': 31,\n",
       "   'capacity_ratio': 0.769683446816019,\n",
       "   'route_dist': 15.659801848615464},\n",
       "  '12': {'duration_mins': 45,\n",
       "   'capacity_ratio': 0.3907513183820401,\n",
       "   'route_dist': 20.892080127068393},\n",
       "  '13': {'duration_mins': 44,\n",
       "   'capacity_ratio': 0.6116350545562755,\n",
       "   'route_dist': 23.48873356034742},\n",
       "  '14': {'duration_mins': 37,\n",
       "   'capacity_ratio': 0.7580174547852705,\n",
       "   'route_dist': 20.103222345018082},\n",
       "  '15': {'duration_mins': 35,\n",
       "   'capacity_ratio': 0.8592503378225109,\n",
       "   'route_dist': 16.98428687007886},\n",
       "  '16': {'duration_mins': 38,\n",
       "   'capacity_ratio': 0.725522665404357,\n",
       "   'route_dist': 18.94188337710094},\n",
       "  '17': {'duration_mins': 33,\n",
       "   'capacity_ratio': 0.600573926130143,\n",
       "   'route_dist': 18.527773453076},\n",
       "  '18': {'duration_mins': 34,\n",
       "   'capacity_ratio': 0.8277014896853641,\n",
       "   'route_dist': 16.878050353128415},\n",
       "  '19': {'duration_mins': 48,\n",
       "   'capacity_ratio': 0.32892943903860794,\n",
       "   'route_dist': 20.2195710442341}}}"
      ]
     },
     "metadata": {},
     "execution_count": 48
    }
   ],
   "source": [
    "vehicles = 4 \n",
    "routes = 20\n",
    "routes_dict = {str(i+1): {str(j): {} for j in range(routes)} for i in range(vehicles)}\n",
    "for i in range(routes):\n",
    "    route_duration = np.random.randint(low= 30, high = 50, size = 4).tolist()\n",
    "    route_capacity = np.random.uniform(low= 0.3, high = 0.9, size = 4)\n",
    "    route_distance = [np.random.normal(loc = route_duration[i], scale = 3)*0.5 for i in range(vehicles)]\n",
    "    routes_dict['1'][str(i)]['duration_mins'] = route_duration[0]\n",
    "    routes_dict['2'][str(i)]['duration_mins'] = route_duration[1]\n",
    "    routes_dict['3'][str(i)]['duration_mins'] = route_duration[2]\n",
    "    routes_dict['4'][str(i)]['duration_mins'] = route_duration[3]\n",
    "\n",
    "    routes_dict['1'][str(i)]['capacity_ratio'] = route_capacity[0]\n",
    "    routes_dict['2'][str(i)]['capacity_ratio'] = route_capacity[1]\n",
    "    routes_dict['3'][str(i)]['capacity_ratio'] = route_capacity[2]\n",
    "    routes_dict['4'][str(i)]['capacity_ratio'] = route_capacity[3]\n",
    "\n",
    "    routes_dict['1'][str(i)]['route_dist'] = route_distance[0]\n",
    "    routes_dict['2'][str(i)]['route_dist'] = route_distance[1]\n",
    "    routes_dict['3'][str(i)]['route_dist'] = route_distance[2]\n",
    "    routes_dict['4'][str(i)]['route_dist'] = route_distance[3]\n",
    "\n",
    "routes_dict\n",
    "\n"
   ]
  },
  {
   "cell_type": "code",
   "execution_count": 50,
   "metadata": {},
   "outputs": [],
   "source": [
    "import json\n",
    "\n",
    "final_dict = {'trips': trip_res, 'reqests': open_reqs, 'routes': routes_dict }\n",
    "\n",
    "with open('simulation_outputs.json', 'w') as outfile:\n",
    "    json.dump(final_dict, outfile, indent= 2)\n",
    "# pd.DataFrame.from_dict(final_dict, orient= 'index')"
   ]
  },
  {
   "cell_type": "code",
   "execution_count": 11,
   "metadata": {},
   "outputs": [
    {
     "output_type": "execute_result",
     "data": {
      "text/plain": [
       "Index(['Unnamed: 0', 'trip_start_geog_Long', 'trip_start_geog_Lat',\n",
       "       'trip_end_geog_Long', 'trip_end_geog_Lat', 'time_start', 'time_end',\n",
       "       'trip_distance_meters', 'trip_duration_seconds', 'weekday', 'date',\n",
       "       'haver_dist', 'clust', 'logik1', 'area_start', 'area_end',\n",
       "       'area_start_center', 'area_end_center'],\n",
       "      dtype='object')"
      ]
     },
     "metadata": {},
     "execution_count": 11
    }
   ],
   "source": [
    "data = pd.read_csv('final_2.csv')\n",
    "data.columns"
   ]
  },
  {
   "cell_type": "code",
   "execution_count": 12,
   "metadata": {},
   "outputs": [],
   "source": [
    "data_2 = data.loc[:, ['trip_start_geog_Long', 'trip_start_geog_Lat',\n",
    "       'trip_end_geog_Long', 'trip_end_geog_Lat', 'time_start', 'time_end',\n",
    "       'trip_distance_meters', 'trip_duration_seconds']]"
   ]
  },
  {
   "cell_type": "code",
   "execution_count": 15,
   "metadata": {},
   "outputs": [],
   "source": [
    "sample_data = data_2.sample(frac= 0.1).reset_index(drop= True)"
   ]
  },
  {
   "cell_type": "code",
   "execution_count": 16,
   "metadata": {},
   "outputs": [
    {
     "output_type": "execute_result",
     "data": {
      "text/plain": [
       "   trip_start_geog_Long  trip_start_geog_Lat  trip_end_geog_Long  \\\n",
       "0             22.932322            40.640022           22.963558   \n",
       "1             22.973158            40.600798           22.983545   \n",
       "2             22.880703            40.664683           22.924380   \n",
       "3             22.894492            40.668457           22.937078   \n",
       "4             22.928162            40.643952           22.946563   \n",
       "\n",
       "   trip_end_geog_Lat  time_start  time_end  trip_distance_meters  \\\n",
       "0          40.609867          11        12                  4643   \n",
       "1          40.574828          17        17                  3470   \n",
       "2          40.670682          14        14                  4593   \n",
       "3          40.666038          13        13                  4310   \n",
       "4          40.630603          17        17                  2453   \n",
       "\n",
       "   trip_duration_seconds  \n",
       "0                    767  \n",
       "1                    391  \n",
       "2                    800  \n",
       "3                    956  \n",
       "4                   1152  "
      ],
      "text/html": "<div>\n<style scoped>\n    .dataframe tbody tr th:only-of-type {\n        vertical-align: middle;\n    }\n\n    .dataframe tbody tr th {\n        vertical-align: top;\n    }\n\n    .dataframe thead th {\n        text-align: right;\n    }\n</style>\n<table border=\"1\" class=\"dataframe\">\n  <thead>\n    <tr style=\"text-align: right;\">\n      <th></th>\n      <th>trip_start_geog_Long</th>\n      <th>trip_start_geog_Lat</th>\n      <th>trip_end_geog_Long</th>\n      <th>trip_end_geog_Lat</th>\n      <th>time_start</th>\n      <th>time_end</th>\n      <th>trip_distance_meters</th>\n      <th>trip_duration_seconds</th>\n    </tr>\n  </thead>\n  <tbody>\n    <tr>\n      <th>0</th>\n      <td>22.932322</td>\n      <td>40.640022</td>\n      <td>22.963558</td>\n      <td>40.609867</td>\n      <td>11</td>\n      <td>12</td>\n      <td>4643</td>\n      <td>767</td>\n    </tr>\n    <tr>\n      <th>1</th>\n      <td>22.973158</td>\n      <td>40.600798</td>\n      <td>22.983545</td>\n      <td>40.574828</td>\n      <td>17</td>\n      <td>17</td>\n      <td>3470</td>\n      <td>391</td>\n    </tr>\n    <tr>\n      <th>2</th>\n      <td>22.880703</td>\n      <td>40.664683</td>\n      <td>22.924380</td>\n      <td>40.670682</td>\n      <td>14</td>\n      <td>14</td>\n      <td>4593</td>\n      <td>800</td>\n    </tr>\n    <tr>\n      <th>3</th>\n      <td>22.894492</td>\n      <td>40.668457</td>\n      <td>22.937078</td>\n      <td>40.666038</td>\n      <td>13</td>\n      <td>13</td>\n      <td>4310</td>\n      <td>956</td>\n    </tr>\n    <tr>\n      <th>4</th>\n      <td>22.928162</td>\n      <td>40.643952</td>\n      <td>22.946563</td>\n      <td>40.630603</td>\n      <td>17</td>\n      <td>17</td>\n      <td>2453</td>\n      <td>1152</td>\n    </tr>\n  </tbody>\n</table>\n</div>"
     },
     "metadata": {},
     "execution_count": 16
    }
   ],
   "source": [
    "sample_data.head()"
   ]
  },
  {
   "cell_type": "code",
   "execution_count": 17,
   "metadata": {},
   "outputs": [],
   "source": [
    "sample_data.to_csv('sampe_od_data.csv')"
   ]
  },
  {
   "cell_type": "code",
   "execution_count": 42,
   "metadata": {},
   "outputs": [],
   "source": [
    "from sklearn.cluster import KMeans\n",
    "from math import radians, cos, sin, asin, sqrt\n",
    "import numpy as np\n",
    "\n",
    "def haversine_np(lon1, lat1, lon2, lat2):\n",
    "    \"\"\"\n",
    "    Calculate the great circle distance between two points\n",
    "    on the earth (specified in decimal degrees)\n",
    "\n",
    "    All args must be of equal length.    \n",
    "\n",
    "    \"\"\"\n",
    "    lon1, lat1, lon2, lat2 = map(np.radians, [lon1, lat1, lon2, lat2])\n",
    "\n",
    "    dlon = lon2 - lon1\n",
    "    dlat = lat2 - lat1\n",
    "\n",
    "    a = np.sin(dlat/2.0)**2 + np.cos(lat1) * np.cos(lat2) * np.sin(dlon/2.0)**2\n",
    "\n",
    "    c = 2 * np.arcsin(np.sqrt(a))\n",
    "    km = 6367 * c\n",
    "    return km*1000"
   ]
  },
  {
   "cell_type": "code",
   "execution_count": 102,
   "metadata": {},
   "outputs": [],
   "source": [
    "from sklearn.metrics.pairwise import haversine_distances\n",
    "def get_cluster(df,n):\n",
    "    x0 = sample_data.iloc[:, :2]\n",
    "    x0.columns = ['lon', 'lat']\n",
    "    # print(x0.head())\n",
    "    x1 = sample_data.iloc[:,2:4]\n",
    "    x1.columns = ['lon', 'lat']\n",
    "    # print(x1.head())\n",
    "    x = x0.append(x1).reset_index(drop = True)\n",
    "    # print(x.head())\n",
    "\n",
    "    kmeans = KMeans(n_clusters= n)\n",
    "    kmeans.fit(x)\n",
    "    kmeans.labels_\n",
    "    \n",
    "\n",
    "    x['label'] = kmeans.labels_\n",
    "    return x , kmeans.cluster_centers_\n",
    "\n",
    "\n",
    "def max_dist(df, centers):\n",
    "    clst = df.label.iat[0]\n",
    "    lon_c = [centers[clst,0] for _ in range(df.shape[0])]\n",
    "    lat_c = [centers[clst,1] for _ in range(df.shape[0])]\n",
    "    df['lon_c'] = lon_c\n",
    "    df['lat_c'] = lat_c\n",
    "    df['hdist'] =haversine_np(df['lon'], df['lat'],df['lon_c'],df['lat_c'])\n",
    "    return df['hdist'].max()\n",
    "\n",
    "def run_clusters(df,maxdist, Crange):\n",
    "    rmse_list = {}\n",
    "    for i in range(Crange[0], Crange[1] +1):\n",
    "        x, centers  = get_cluster(df, i)\n",
    "        rmse_in_cluster = np.sqrt(np.mean((x.groupby('label').apply(lambda x: max_dist(x,centers)).\\\n",
    "            reset_index(name= 'maxDistance')['maxDistance'] - maxdist)**2))\n",
    "\n",
    "        mae_in_cluster = np.mean(abs(x.groupby('label').apply(lambda x: max_dist(x,centers)).\\\n",
    "            reset_index(name= 'maxDistance')['maxDistance'] - maxdist))\n",
    "\n",
    "        rmse_list[i] =  [rmse_in_cluster, mae_in_cluster]\n",
    "    return rmse_list"
   ]
  },
  {
   "cell_type": "code",
   "execution_count": 103,
   "metadata": {},
   "outputs": [],
   "source": [
    "exp = run_clusters(sample_data, 1000, [10,100])\n",
    "# pd.DataFrame.from_dict(exp , orient= 'index')"
   ]
  },
  {
   "cell_type": "code",
   "execution_count": 105,
   "metadata": {},
   "outputs": [],
   "source": [
    "# pd.DataFrame.from_dict(exp , orient= 'index')"
   ]
  },
  {
   "cell_type": "code",
   "execution_count": 106,
   "metadata": {},
   "outputs": [
    {
     "output_type": "execute_result",
     "data": {
      "text/plain": [
       "<AxesSubplot:>"
      ]
     },
     "metadata": {},
     "execution_count": 106
    },
    {
     "output_type": "display_data",
     "data": {
      "text/plain": "<Figure size 432x288 with 1 Axes>",
      "image/svg+xml": "<?xml version=\"1.0\" encoding=\"utf-8\" standalone=\"no\"?>\r\n<!DOCTYPE svg PUBLIC \"-//W3C//DTD SVG 1.1//EN\"\r\n  \"http://www.w3.org/Graphics/SVG/1.1/DTD/svg11.dtd\">\r\n<!-- Created with matplotlib (https://matplotlib.org/) -->\r\n<svg height=\"248.518125pt\" version=\"1.1\" viewBox=\"0 0 381.65 248.518125\" width=\"381.65pt\" xmlns=\"http://www.w3.org/2000/svg\" xmlns:xlink=\"http://www.w3.org/1999/xlink\">\r\n <metadata>\r\n  <rdf:RDF xmlns:cc=\"http://creativecommons.org/ns#\" xmlns:dc=\"http://purl.org/dc/elements/1.1/\" xmlns:rdf=\"http://www.w3.org/1999/02/22-rdf-syntax-ns#\">\r\n   <cc:Work>\r\n    <dc:type rdf:resource=\"http://purl.org/dc/dcmitype/StillImage\"/>\r\n    <dc:date>2021-04-28T19:39:14.579416</dc:date>\r\n    <dc:format>image/svg+xml</dc:format>\r\n    <dc:creator>\r\n     <cc:Agent>\r\n      <dc:title>Matplotlib v3.3.2, https://matplotlib.org/</dc:title>\r\n     </cc:Agent>\r\n    </dc:creator>\r\n   </cc:Work>\r\n  </rdf:RDF>\r\n </metadata>\r\n <defs>\r\n  <style type=\"text/css\">*{stroke-linecap:butt;stroke-linejoin:round;}</style>\r\n </defs>\r\n <g id=\"figure_1\">\r\n  <g id=\"patch_1\">\r\n   <path d=\"M -0 248.518125 \r\nL 381.65 248.518125 \r\nL 381.65 0 \r\nL -0 0 \r\nz\r\n\" style=\"fill:none;\"/>\r\n  </g>\r\n  <g id=\"axes_1\">\r\n   <g id=\"patch_2\">\r\n    <path d=\"M 39.65 224.64 \r\nL 374.45 224.64 \r\nL 374.45 7.2 \r\nL 39.65 7.2 \r\nz\r\n\" style=\"fill:#ffffff;\"/>\r\n   </g>\r\n   <g id=\"matplotlib.axis_1\">\r\n    <g id=\"xtick_1\">\r\n     <g id=\"line2d_1\">\r\n      <defs>\r\n       <path d=\"M 0 0 \r\nL 0 3.5 \r\n\" id=\"ma77894ff56\" style=\"stroke:#000000;stroke-width:0.8;\"/>\r\n      </defs>\r\n      <g>\r\n       <use style=\"stroke:#000000;stroke-width:0.8;\" x=\"88.686364\" xlink:href=\"#ma77894ff56\" y=\"224.64\"/>\r\n      </g>\r\n     </g>\r\n     <g id=\"text_1\">\r\n      <!-- 20 -->\r\n      <g transform=\"translate(82.323864 239.238437)scale(0.1 -0.1)\">\r\n       <defs>\r\n        <path d=\"M 19.1875 8.296875 \r\nL 53.609375 8.296875 \r\nL 53.609375 0 \r\nL 7.328125 0 \r\nL 7.328125 8.296875 \r\nQ 12.9375 14.109375 22.625 23.890625 \r\nQ 32.328125 33.6875 34.8125 36.53125 \r\nQ 39.546875 41.84375 41.421875 45.53125 \r\nQ 43.3125 49.21875 43.3125 52.78125 \r\nQ 43.3125 58.59375 39.234375 62.25 \r\nQ 35.15625 65.921875 28.609375 65.921875 \r\nQ 23.96875 65.921875 18.8125 64.3125 \r\nQ 13.671875 62.703125 7.8125 59.421875 \r\nL 7.8125 69.390625 \r\nQ 13.765625 71.78125 18.9375 73 \r\nQ 24.125 74.21875 28.421875 74.21875 \r\nQ 39.75 74.21875 46.484375 68.546875 \r\nQ 53.21875 62.890625 53.21875 53.421875 \r\nQ 53.21875 48.921875 51.53125 44.890625 \r\nQ 49.859375 40.875 45.40625 35.40625 \r\nQ 44.1875 33.984375 37.640625 27.21875 \r\nQ 31.109375 20.453125 19.1875 8.296875 \r\nz\r\n\" id=\"DejaVuSans-50\"/>\r\n        <path d=\"M 31.78125 66.40625 \r\nQ 24.171875 66.40625 20.328125 58.90625 \r\nQ 16.5 51.421875 16.5 36.375 \r\nQ 16.5 21.390625 20.328125 13.890625 \r\nQ 24.171875 6.390625 31.78125 6.390625 \r\nQ 39.453125 6.390625 43.28125 13.890625 \r\nQ 47.125 21.390625 47.125 36.375 \r\nQ 47.125 51.421875 43.28125 58.90625 \r\nQ 39.453125 66.40625 31.78125 66.40625 \r\nz\r\nM 31.78125 74.21875 \r\nQ 44.046875 74.21875 50.515625 64.515625 \r\nQ 56.984375 54.828125 56.984375 36.375 \r\nQ 56.984375 17.96875 50.515625 8.265625 \r\nQ 44.046875 -1.421875 31.78125 -1.421875 \r\nQ 19.53125 -1.421875 13.0625 8.265625 \r\nQ 6.59375 17.96875 6.59375 36.375 \r\nQ 6.59375 54.828125 13.0625 64.515625 \r\nQ 19.53125 74.21875 31.78125 74.21875 \r\nz\r\n\" id=\"DejaVuSans-48\"/>\r\n       </defs>\r\n       <use xlink:href=\"#DejaVuSans-50\"/>\r\n       <use x=\"63.623047\" xlink:href=\"#DejaVuSans-48\"/>\r\n      </g>\r\n     </g>\r\n    </g>\r\n    <g id=\"xtick_2\">\r\n     <g id=\"line2d_2\">\r\n      <g>\r\n       <use style=\"stroke:#000000;stroke-width:0.8;\" x=\"156.322727\" xlink:href=\"#ma77894ff56\" y=\"224.64\"/>\r\n      </g>\r\n     </g>\r\n     <g id=\"text_2\">\r\n      <!-- 40 -->\r\n      <g transform=\"translate(149.960227 239.238437)scale(0.1 -0.1)\">\r\n       <defs>\r\n        <path d=\"M 37.796875 64.3125 \r\nL 12.890625 25.390625 \r\nL 37.796875 25.390625 \r\nz\r\nM 35.203125 72.90625 \r\nL 47.609375 72.90625 \r\nL 47.609375 25.390625 \r\nL 58.015625 25.390625 \r\nL 58.015625 17.1875 \r\nL 47.609375 17.1875 \r\nL 47.609375 0 \r\nL 37.796875 0 \r\nL 37.796875 17.1875 \r\nL 4.890625 17.1875 \r\nL 4.890625 26.703125 \r\nz\r\n\" id=\"DejaVuSans-52\"/>\r\n       </defs>\r\n       <use xlink:href=\"#DejaVuSans-52\"/>\r\n       <use x=\"63.623047\" xlink:href=\"#DejaVuSans-48\"/>\r\n      </g>\r\n     </g>\r\n    </g>\r\n    <g id=\"xtick_3\">\r\n     <g id=\"line2d_3\">\r\n      <g>\r\n       <use style=\"stroke:#000000;stroke-width:0.8;\" x=\"223.959091\" xlink:href=\"#ma77894ff56\" y=\"224.64\"/>\r\n      </g>\r\n     </g>\r\n     <g id=\"text_3\">\r\n      <!-- 60 -->\r\n      <g transform=\"translate(217.596591 239.238437)scale(0.1 -0.1)\">\r\n       <defs>\r\n        <path d=\"M 33.015625 40.375 \r\nQ 26.375 40.375 22.484375 35.828125 \r\nQ 18.609375 31.296875 18.609375 23.390625 \r\nQ 18.609375 15.53125 22.484375 10.953125 \r\nQ 26.375 6.390625 33.015625 6.390625 \r\nQ 39.65625 6.390625 43.53125 10.953125 \r\nQ 47.40625 15.53125 47.40625 23.390625 \r\nQ 47.40625 31.296875 43.53125 35.828125 \r\nQ 39.65625 40.375 33.015625 40.375 \r\nz\r\nM 52.59375 71.296875 \r\nL 52.59375 62.3125 \r\nQ 48.875 64.0625 45.09375 64.984375 \r\nQ 41.3125 65.921875 37.59375 65.921875 \r\nQ 27.828125 65.921875 22.671875 59.328125 \r\nQ 17.53125 52.734375 16.796875 39.40625 \r\nQ 19.671875 43.65625 24.015625 45.921875 \r\nQ 28.375 48.1875 33.59375 48.1875 \r\nQ 44.578125 48.1875 50.953125 41.515625 \r\nQ 57.328125 34.859375 57.328125 23.390625 \r\nQ 57.328125 12.15625 50.6875 5.359375 \r\nQ 44.046875 -1.421875 33.015625 -1.421875 \r\nQ 20.359375 -1.421875 13.671875 8.265625 \r\nQ 6.984375 17.96875 6.984375 36.375 \r\nQ 6.984375 53.65625 15.1875 63.9375 \r\nQ 23.390625 74.21875 37.203125 74.21875 \r\nQ 40.921875 74.21875 44.703125 73.484375 \r\nQ 48.484375 72.75 52.59375 71.296875 \r\nz\r\n\" id=\"DejaVuSans-54\"/>\r\n       </defs>\r\n       <use xlink:href=\"#DejaVuSans-54\"/>\r\n       <use x=\"63.623047\" xlink:href=\"#DejaVuSans-48\"/>\r\n      </g>\r\n     </g>\r\n    </g>\r\n    <g id=\"xtick_4\">\r\n     <g id=\"line2d_4\">\r\n      <g>\r\n       <use style=\"stroke:#000000;stroke-width:0.8;\" x=\"291.595455\" xlink:href=\"#ma77894ff56\" y=\"224.64\"/>\r\n      </g>\r\n     </g>\r\n     <g id=\"text_4\">\r\n      <!-- 80 -->\r\n      <g transform=\"translate(285.232955 239.238437)scale(0.1 -0.1)\">\r\n       <defs>\r\n        <path d=\"M 31.78125 34.625 \r\nQ 24.75 34.625 20.71875 30.859375 \r\nQ 16.703125 27.09375 16.703125 20.515625 \r\nQ 16.703125 13.921875 20.71875 10.15625 \r\nQ 24.75 6.390625 31.78125 6.390625 \r\nQ 38.8125 6.390625 42.859375 10.171875 \r\nQ 46.921875 13.96875 46.921875 20.515625 \r\nQ 46.921875 27.09375 42.890625 30.859375 \r\nQ 38.875 34.625 31.78125 34.625 \r\nz\r\nM 21.921875 38.8125 \r\nQ 15.578125 40.375 12.03125 44.71875 \r\nQ 8.5 49.078125 8.5 55.328125 \r\nQ 8.5 64.0625 14.71875 69.140625 \r\nQ 20.953125 74.21875 31.78125 74.21875 \r\nQ 42.671875 74.21875 48.875 69.140625 \r\nQ 55.078125 64.0625 55.078125 55.328125 \r\nQ 55.078125 49.078125 51.53125 44.71875 \r\nQ 48 40.375 41.703125 38.8125 \r\nQ 48.828125 37.15625 52.796875 32.3125 \r\nQ 56.78125 27.484375 56.78125 20.515625 \r\nQ 56.78125 9.90625 50.3125 4.234375 \r\nQ 43.84375 -1.421875 31.78125 -1.421875 \r\nQ 19.734375 -1.421875 13.25 4.234375 \r\nQ 6.78125 9.90625 6.78125 20.515625 \r\nQ 6.78125 27.484375 10.78125 32.3125 \r\nQ 14.796875 37.15625 21.921875 38.8125 \r\nz\r\nM 18.3125 54.390625 \r\nQ 18.3125 48.734375 21.84375 45.5625 \r\nQ 25.390625 42.390625 31.78125 42.390625 \r\nQ 38.140625 42.390625 41.71875 45.5625 \r\nQ 45.3125 48.734375 45.3125 54.390625 \r\nQ 45.3125 60.0625 41.71875 63.234375 \r\nQ 38.140625 66.40625 31.78125 66.40625 \r\nQ 25.390625 66.40625 21.84375 63.234375 \r\nQ 18.3125 60.0625 18.3125 54.390625 \r\nz\r\n\" id=\"DejaVuSans-56\"/>\r\n       </defs>\r\n       <use xlink:href=\"#DejaVuSans-56\"/>\r\n       <use x=\"63.623047\" xlink:href=\"#DejaVuSans-48\"/>\r\n      </g>\r\n     </g>\r\n    </g>\r\n    <g id=\"xtick_5\">\r\n     <g id=\"line2d_5\">\r\n      <g>\r\n       <use style=\"stroke:#000000;stroke-width:0.8;\" x=\"359.231818\" xlink:href=\"#ma77894ff56\" y=\"224.64\"/>\r\n      </g>\r\n     </g>\r\n     <g id=\"text_5\">\r\n      <!-- 100 -->\r\n      <g transform=\"translate(349.688068 239.238437)scale(0.1 -0.1)\">\r\n       <defs>\r\n        <path d=\"M 12.40625 8.296875 \r\nL 28.515625 8.296875 \r\nL 28.515625 63.921875 \r\nL 10.984375 60.40625 \r\nL 10.984375 69.390625 \r\nL 28.421875 72.90625 \r\nL 38.28125 72.90625 \r\nL 38.28125 8.296875 \r\nL 54.390625 8.296875 \r\nL 54.390625 0 \r\nL 12.40625 0 \r\nz\r\n\" id=\"DejaVuSans-49\"/>\r\n       </defs>\r\n       <use xlink:href=\"#DejaVuSans-49\"/>\r\n       <use x=\"63.623047\" xlink:href=\"#DejaVuSans-48\"/>\r\n       <use x=\"127.246094\" xlink:href=\"#DejaVuSans-48\"/>\r\n      </g>\r\n     </g>\r\n    </g>\r\n   </g>\r\n   <g id=\"matplotlib.axis_2\">\r\n    <g id=\"ytick_1\">\r\n     <g id=\"line2d_6\">\r\n      <defs>\r\n       <path d=\"M 0 0 \r\nL -3.5 0 \r\n\" id=\"mc7eb10bb81\" style=\"stroke:#000000;stroke-width:0.8;\"/>\r\n      </defs>\r\n      <g>\r\n       <use style=\"stroke:#000000;stroke-width:0.8;\" x=\"39.65\" xlink:href=\"#mc7eb10bb81\" y=\"203.771239\"/>\r\n      </g>\r\n     </g>\r\n     <g id=\"text_6\">\r\n      <!-- 500 -->\r\n      <g transform=\"translate(13.5625 207.570458)scale(0.1 -0.1)\">\r\n       <defs>\r\n        <path d=\"M 10.796875 72.90625 \r\nL 49.515625 72.90625 \r\nL 49.515625 64.59375 \r\nL 19.828125 64.59375 \r\nL 19.828125 46.734375 \r\nQ 21.96875 47.46875 24.109375 47.828125 \r\nQ 26.265625 48.1875 28.421875 48.1875 \r\nQ 40.625 48.1875 47.75 41.5 \r\nQ 54.890625 34.8125 54.890625 23.390625 \r\nQ 54.890625 11.625 47.5625 5.09375 \r\nQ 40.234375 -1.421875 26.90625 -1.421875 \r\nQ 22.3125 -1.421875 17.546875 -0.640625 \r\nQ 12.796875 0.140625 7.71875 1.703125 \r\nL 7.71875 11.625 \r\nQ 12.109375 9.234375 16.796875 8.0625 \r\nQ 21.484375 6.890625 26.703125 6.890625 \r\nQ 35.15625 6.890625 40.078125 11.328125 \r\nQ 45.015625 15.765625 45.015625 23.390625 \r\nQ 45.015625 31 40.078125 35.4375 \r\nQ 35.15625 39.890625 26.703125 39.890625 \r\nQ 22.75 39.890625 18.8125 39.015625 \r\nQ 14.890625 38.140625 10.796875 36.28125 \r\nz\r\n\" id=\"DejaVuSans-53\"/>\r\n       </defs>\r\n       <use xlink:href=\"#DejaVuSans-53\"/>\r\n       <use x=\"63.623047\" xlink:href=\"#DejaVuSans-48\"/>\r\n       <use x=\"127.246094\" xlink:href=\"#DejaVuSans-48\"/>\r\n      </g>\r\n     </g>\r\n    </g>\r\n    <g id=\"ytick_2\">\r\n     <g id=\"line2d_7\">\r\n      <g>\r\n       <use style=\"stroke:#000000;stroke-width:0.8;\" x=\"39.65\" xlink:href=\"#mc7eb10bb81\" y=\"177.390671\"/>\r\n      </g>\r\n     </g>\r\n     <g id=\"text_7\">\r\n      <!-- 1000 -->\r\n      <g transform=\"translate(7.2 181.18989)scale(0.1 -0.1)\">\r\n       <use xlink:href=\"#DejaVuSans-49\"/>\r\n       <use x=\"63.623047\" xlink:href=\"#DejaVuSans-48\"/>\r\n       <use x=\"127.246094\" xlink:href=\"#DejaVuSans-48\"/>\r\n       <use x=\"190.869141\" xlink:href=\"#DejaVuSans-48\"/>\r\n      </g>\r\n     </g>\r\n    </g>\r\n    <g id=\"ytick_3\">\r\n     <g id=\"line2d_8\">\r\n      <g>\r\n       <use style=\"stroke:#000000;stroke-width:0.8;\" x=\"39.65\" xlink:href=\"#mc7eb10bb81\" y=\"151.010103\"/>\r\n      </g>\r\n     </g>\r\n     <g id=\"text_8\">\r\n      <!-- 1500 -->\r\n      <g transform=\"translate(7.2 154.809321)scale(0.1 -0.1)\">\r\n       <use xlink:href=\"#DejaVuSans-49\"/>\r\n       <use x=\"63.623047\" xlink:href=\"#DejaVuSans-53\"/>\r\n       <use x=\"127.246094\" xlink:href=\"#DejaVuSans-48\"/>\r\n       <use x=\"190.869141\" xlink:href=\"#DejaVuSans-48\"/>\r\n      </g>\r\n     </g>\r\n    </g>\r\n    <g id=\"ytick_4\">\r\n     <g id=\"line2d_9\">\r\n      <g>\r\n       <use style=\"stroke:#000000;stroke-width:0.8;\" x=\"39.65\" xlink:href=\"#mc7eb10bb81\" y=\"124.629535\"/>\r\n      </g>\r\n     </g>\r\n     <g id=\"text_9\">\r\n      <!-- 2000 -->\r\n      <g transform=\"translate(7.2 128.428753)scale(0.1 -0.1)\">\r\n       <use xlink:href=\"#DejaVuSans-50\"/>\r\n       <use x=\"63.623047\" xlink:href=\"#DejaVuSans-48\"/>\r\n       <use x=\"127.246094\" xlink:href=\"#DejaVuSans-48\"/>\r\n       <use x=\"190.869141\" xlink:href=\"#DejaVuSans-48\"/>\r\n      </g>\r\n     </g>\r\n    </g>\r\n    <g id=\"ytick_5\">\r\n     <g id=\"line2d_10\">\r\n      <g>\r\n       <use style=\"stroke:#000000;stroke-width:0.8;\" x=\"39.65\" xlink:href=\"#mc7eb10bb81\" y=\"98.248966\"/>\r\n      </g>\r\n     </g>\r\n     <g id=\"text_10\">\r\n      <!-- 2500 -->\r\n      <g transform=\"translate(7.2 102.048185)scale(0.1 -0.1)\">\r\n       <use xlink:href=\"#DejaVuSans-50\"/>\r\n       <use x=\"63.623047\" xlink:href=\"#DejaVuSans-53\"/>\r\n       <use x=\"127.246094\" xlink:href=\"#DejaVuSans-48\"/>\r\n       <use x=\"190.869141\" xlink:href=\"#DejaVuSans-48\"/>\r\n      </g>\r\n     </g>\r\n    </g>\r\n    <g id=\"ytick_6\">\r\n     <g id=\"line2d_11\">\r\n      <g>\r\n       <use style=\"stroke:#000000;stroke-width:0.8;\" x=\"39.65\" xlink:href=\"#mc7eb10bb81\" y=\"71.868398\"/>\r\n      </g>\r\n     </g>\r\n     <g id=\"text_11\">\r\n      <!-- 3000 -->\r\n      <g transform=\"translate(7.2 75.667617)scale(0.1 -0.1)\">\r\n       <defs>\r\n        <path d=\"M 40.578125 39.3125 \r\nQ 47.65625 37.796875 51.625 33 \r\nQ 55.609375 28.21875 55.609375 21.1875 \r\nQ 55.609375 10.40625 48.1875 4.484375 \r\nQ 40.765625 -1.421875 27.09375 -1.421875 \r\nQ 22.515625 -1.421875 17.65625 -0.515625 \r\nQ 12.796875 0.390625 7.625 2.203125 \r\nL 7.625 11.71875 \r\nQ 11.71875 9.328125 16.59375 8.109375 \r\nQ 21.484375 6.890625 26.8125 6.890625 \r\nQ 36.078125 6.890625 40.9375 10.546875 \r\nQ 45.796875 14.203125 45.796875 21.1875 \r\nQ 45.796875 27.640625 41.28125 31.265625 \r\nQ 36.765625 34.90625 28.71875 34.90625 \r\nL 20.21875 34.90625 \r\nL 20.21875 43.015625 \r\nL 29.109375 43.015625 \r\nQ 36.375 43.015625 40.234375 45.921875 \r\nQ 44.09375 48.828125 44.09375 54.296875 \r\nQ 44.09375 59.90625 40.109375 62.90625 \r\nQ 36.140625 65.921875 28.71875 65.921875 \r\nQ 24.65625 65.921875 20.015625 65.03125 \r\nQ 15.375 64.15625 9.8125 62.3125 \r\nL 9.8125 71.09375 \r\nQ 15.4375 72.65625 20.34375 73.4375 \r\nQ 25.25 74.21875 29.59375 74.21875 \r\nQ 40.828125 74.21875 47.359375 69.109375 \r\nQ 53.90625 64.015625 53.90625 55.328125 \r\nQ 53.90625 49.265625 50.4375 45.09375 \r\nQ 46.96875 40.921875 40.578125 39.3125 \r\nz\r\n\" id=\"DejaVuSans-51\"/>\r\n       </defs>\r\n       <use xlink:href=\"#DejaVuSans-51\"/>\r\n       <use x=\"63.623047\" xlink:href=\"#DejaVuSans-48\"/>\r\n       <use x=\"127.246094\" xlink:href=\"#DejaVuSans-48\"/>\r\n       <use x=\"190.869141\" xlink:href=\"#DejaVuSans-48\"/>\r\n      </g>\r\n     </g>\r\n    </g>\r\n    <g id=\"ytick_7\">\r\n     <g id=\"line2d_12\">\r\n      <g>\r\n       <use style=\"stroke:#000000;stroke-width:0.8;\" x=\"39.65\" xlink:href=\"#mc7eb10bb81\" y=\"45.48783\"/>\r\n      </g>\r\n     </g>\r\n     <g id=\"text_12\">\r\n      <!-- 3500 -->\r\n      <g transform=\"translate(7.2 49.287049)scale(0.1 -0.1)\">\r\n       <use xlink:href=\"#DejaVuSans-51\"/>\r\n       <use x=\"63.623047\" xlink:href=\"#DejaVuSans-53\"/>\r\n       <use x=\"127.246094\" xlink:href=\"#DejaVuSans-48\"/>\r\n       <use x=\"190.869141\" xlink:href=\"#DejaVuSans-48\"/>\r\n      </g>\r\n     </g>\r\n    </g>\r\n    <g id=\"ytick_8\">\r\n     <g id=\"line2d_13\">\r\n      <g>\r\n       <use style=\"stroke:#000000;stroke-width:0.8;\" x=\"39.65\" xlink:href=\"#mc7eb10bb81\" y=\"19.107262\"/>\r\n      </g>\r\n     </g>\r\n     <g id=\"text_13\">\r\n      <!-- 4000 -->\r\n      <g transform=\"translate(7.2 22.90648)scale(0.1 -0.1)\">\r\n       <use xlink:href=\"#DejaVuSans-52\"/>\r\n       <use x=\"63.623047\" xlink:href=\"#DejaVuSans-48\"/>\r\n       <use x=\"127.246094\" xlink:href=\"#DejaVuSans-48\"/>\r\n       <use x=\"190.869141\" xlink:href=\"#DejaVuSans-48\"/>\r\n      </g>\r\n     </g>\r\n    </g>\r\n   </g>\r\n   <g id=\"line2d_14\">\r\n    <path clip-path=\"url(#p0a99e4805c)\" d=\"M 54.868182 17.083636 \r\nL 58.25 45.075416 \r\nL 61.631818 55.659002 \r\nL 65.013636 65.571365 \r\nL 68.395455 81.780125 \r\nL 71.777273 90.670977 \r\nL 75.159091 95.703679 \r\nL 78.540909 104.575222 \r\nL 81.922727 103.504507 \r\nL 85.304545 109.587684 \r\nL 88.686364 124.78954 \r\nL 92.068182 126.989376 \r\nL 95.45 134.59114 \r\nL 98.831818 148.526974 \r\nL 102.213636 153.982582 \r\nL 105.595455 154.282748 \r\nL 108.977273 151.459173 \r\nL 112.359091 163.737141 \r\nL 115.740909 177.849552 \r\nL 119.122727 165.698504 \r\nL 122.504545 170.750019 \r\nL 125.886364 169.6049 \r\nL 129.268182 182.034303 \r\nL 132.65 169.736933 \r\nL 136.031818 180.308912 \r\nL 139.413636 184.377729 \r\nL 142.795455 190.741467 \r\nL 146.177273 191.64735 \r\nL 149.559091 191.251672 \r\nL 152.940909 188.249764 \r\nL 156.322727 191.818137 \r\nL 159.704545 200.086749 \r\nL 163.086364 194.50756 \r\nL 166.468182 200.469325 \r\nL 169.85 199.708648 \r\nL 173.231818 200.166535 \r\nL 176.613636 200.569491 \r\nL 179.995455 208.721769 \r\nL 183.377273 210.004855 \r\nL 186.759091 203.133717 \r\nL 190.140909 201.114316 \r\nL 193.522727 208.13278 \r\nL 196.904545 210.958379 \r\nL 200.286364 207.954456 \r\nL 203.668182 207.324087 \r\nL 207.05 209.562432 \r\nL 210.431818 207.380425 \r\nL 213.813636 207.784277 \r\nL 217.195455 208.510008 \r\nL 220.577273 208.465815 \r\nL 223.959091 206.13566 \r\nL 227.340909 209.100271 \r\nL 230.722727 207.347463 \r\nL 234.104545 208.917368 \r\nL 237.486364 206.439171 \r\nL 240.868182 205.498186 \r\nL 244.25 206.160336 \r\nL 247.631818 207.036915 \r\nL 251.013636 204.445475 \r\nL 254.395455 206.415551 \r\nL 257.777273 206.149067 \r\nL 261.159091 204.726414 \r\nL 264.540909 204.98277 \r\nL 267.922727 202.863133 \r\nL 271.304545 205.401643 \r\nL 274.686364 205.150054 \r\nL 278.068182 202.655888 \r\nL 281.45 202.19184 \r\nL 284.831818 202.679528 \r\nL 288.213636 203.527881 \r\nL 291.595455 202.664972 \r\nL 294.977273 202.13268 \r\nL 298.359091 203.371314 \r\nL 301.740909 202.726452 \r\nL 305.122727 201.65014 \r\nL 308.504545 202.098698 \r\nL 311.886364 201.487807 \r\nL 315.268182 201.068107 \r\nL 318.65 201.344253 \r\nL 322.031818 201.49997 \r\nL 325.413636 199.919784 \r\nL 328.795455 200.570183 \r\nL 332.177273 200.704351 \r\nL 335.559091 200.475757 \r\nL 338.940909 200.28479 \r\nL 342.322727 200.986965 \r\nL 345.704545 199.936002 \r\nL 349.086364 199.977053 \r\nL 352.468182 200.571318 \r\nL 355.85 199.732119 \r\nL 359.231818 198.787345 \r\n\" style=\"fill:none;stroke:#1f77b4;stroke-linecap:square;stroke-width:1.5;\"/>\r\n   </g>\r\n   <g id=\"line2d_15\">\r\n    <path clip-path=\"url(#p0a99e4805c)\" d=\"M 54.868182 44.962297 \r\nL 58.25 72.356927 \r\nL 61.631818 85.34936 \r\nL 65.013636 103.874972 \r\nL 68.395455 116.764868 \r\nL 71.777273 125.16755 \r\nL 75.159091 124.889902 \r\nL 78.540909 135.643187 \r\nL 81.922727 139.168844 \r\nL 85.304545 148.781501 \r\nL 88.686364 157.235466 \r\nL 92.068182 166.655514 \r\nL 95.45 169.305253 \r\nL 98.831818 174.724383 \r\nL 102.213636 182.684587 \r\nL 105.595455 184.365364 \r\nL 108.977273 182.087276 \r\nL 112.359091 189.135835 \r\nL 115.740909 192.068732 \r\nL 119.122727 192.447042 \r\nL 122.504545 197.027736 \r\nL 125.886364 193.275537 \r\nL 129.268182 200.934908 \r\nL 132.65 195.096239 \r\nL 136.031818 200.539399 \r\nL 139.413636 202.463488 \r\nL 142.795455 203.823167 \r\nL 146.177273 204.161757 \r\nL 149.559091 203.84053 \r\nL 152.940909 204.949145 \r\nL 156.322727 204.349433 \r\nL 159.704545 211.717565 \r\nL 163.086364 206.957818 \r\nL 166.468182 211.805074 \r\nL 169.85 210.867667 \r\nL 173.231818 211.097838 \r\nL 176.613636 211.279859 \r\nL 179.995455 213.550586 \r\nL 183.377273 214.614756 \r\nL 186.759091 210.468877 \r\nL 190.140909 210.808575 \r\nL 193.522727 212.34511 \r\nL 196.904545 214.756364 \r\nL 200.286364 211.869954 \r\nL 203.668182 210.828979 \r\nL 207.05 213.444814 \r\nL 210.431818 211.208407 \r\nL 213.813636 211.551141 \r\nL 217.195455 211.863286 \r\nL 220.577273 212.068324 \r\nL 223.959091 210.359065 \r\nL 227.340909 212.762912 \r\nL 230.722727 210.67514 \r\nL 234.104545 212.362336 \r\nL 237.486364 210.206495 \r\nL 240.868182 208.585724 \r\nL 244.25 209.61491 \r\nL 247.631818 210.807143 \r\nL 251.013636 207.844449 \r\nL 254.395455 209.126144 \r\nL 257.777273 209.461332 \r\nL 261.159091 208.343675 \r\nL 264.540909 208.228766 \r\nL 267.922727 206.440419 \r\nL 271.304545 208.576703 \r\nL 274.686364 208.085103 \r\nL 278.068182 206.037981 \r\nL 281.45 205.863004 \r\nL 284.831818 206.159257 \r\nL 288.213636 207.035831 \r\nL 291.595455 205.49598 \r\nL 294.977273 204.996679 \r\nL 298.359091 206.238542 \r\nL 301.740909 205.554373 \r\nL 305.122727 204.740735 \r\nL 308.504545 205.096478 \r\nL 311.886364 204.436675 \r\nL 315.268182 203.988306 \r\nL 318.65 204.055965 \r\nL 322.031818 203.983549 \r\nL 325.413636 202.365332 \r\nL 328.795455 202.768289 \r\nL 332.177273 203.316719 \r\nL 335.559091 202.994246 \r\nL 338.940909 203.256403 \r\nL 342.322727 203.32118 \r\nL 345.704545 202.181231 \r\nL 349.086364 202.107881 \r\nL 352.468182 202.595577 \r\nL 355.85 201.967357 \r\nL 359.231818 200.90102 \r\n\" style=\"fill:none;stroke:#ff7f0e;stroke-linecap:square;stroke-width:1.5;\"/>\r\n   </g>\r\n   <g id=\"patch_3\">\r\n    <path d=\"M 39.65 224.64 \r\nL 39.65 7.2 \r\n\" style=\"fill:none;stroke:#000000;stroke-linecap:square;stroke-linejoin:miter;stroke-width:0.8;\"/>\r\n   </g>\r\n   <g id=\"patch_4\">\r\n    <path d=\"M 374.45 224.64 \r\nL 374.45 7.2 \r\n\" style=\"fill:none;stroke:#000000;stroke-linecap:square;stroke-linejoin:miter;stroke-width:0.8;\"/>\r\n   </g>\r\n   <g id=\"patch_5\">\r\n    <path d=\"M 39.65 224.64 \r\nL 374.45 224.64 \r\n\" style=\"fill:none;stroke:#000000;stroke-linecap:square;stroke-linejoin:miter;stroke-width:0.8;\"/>\r\n   </g>\r\n   <g id=\"patch_6\">\r\n    <path d=\"M 39.65 7.2 \r\nL 374.45 7.2 \r\n\" style=\"fill:none;stroke:#000000;stroke-linecap:square;stroke-linejoin:miter;stroke-width:0.8;\"/>\r\n   </g>\r\n   <g id=\"legend_1\">\r\n    <g id=\"patch_7\">\r\n     <path d=\"M 329.0875 44.55625 \r\nL 367.45 44.55625 \r\nQ 369.45 44.55625 369.45 42.55625 \r\nL 369.45 14.2 \r\nQ 369.45 12.2 367.45 12.2 \r\nL 329.0875 12.2 \r\nQ 327.0875 12.2 327.0875 14.2 \r\nL 327.0875 42.55625 \r\nQ 327.0875 44.55625 329.0875 44.55625 \r\nz\r\n\" style=\"fill:#ffffff;opacity:0.8;stroke:#cccccc;stroke-linejoin:miter;\"/>\r\n    </g>\r\n    <g id=\"line2d_16\">\r\n     <path d=\"M 331.0875 20.298437 \r\nL 351.0875 20.298437 \r\n\" style=\"fill:none;stroke:#1f77b4;stroke-linecap:square;stroke-width:1.5;\"/>\r\n    </g>\r\n    <g id=\"line2d_17\"/>\r\n    <g id=\"text_14\">\r\n     <!-- 0 -->\r\n     <g transform=\"translate(359.0875 23.798437)scale(0.1 -0.1)\">\r\n      <use xlink:href=\"#DejaVuSans-48\"/>\r\n     </g>\r\n    </g>\r\n    <g id=\"line2d_18\">\r\n     <path d=\"M 331.0875 34.976562 \r\nL 351.0875 34.976562 \r\n\" style=\"fill:none;stroke:#ff7f0e;stroke-linecap:square;stroke-width:1.5;\"/>\r\n    </g>\r\n    <g id=\"line2d_19\"/>\r\n    <g id=\"text_15\">\r\n     <!-- 1 -->\r\n     <g transform=\"translate(359.0875 38.476562)scale(0.1 -0.1)\">\r\n      <use xlink:href=\"#DejaVuSans-49\"/>\r\n     </g>\r\n    </g>\r\n   </g>\r\n  </g>\r\n </g>\r\n <defs>\r\n  <clipPath id=\"p0a99e4805c\">\r\n   <rect height=\"217.44\" width=\"334.8\" x=\"39.65\" y=\"7.2\"/>\r\n  </clipPath>\r\n </defs>\r\n</svg>\r\n",
      "image/png": "[encoded data removed]"
     },
     "metadata": {
      "needs_background": "light"
     }
    }
   ],
   "source": [
    "pd.DataFrame.from_dict(exp , orient= 'index').plot()"
   ]
  },
  {
   "cell_type": "code",
   "execution_count": 118,
   "metadata": {},
   "outputs": [
    {
     "output_type": "execute_result",
     "data": {
      "text/plain": [
       "52"
      ]
     },
     "metadata": {},
     "execution_count": 118
    }
   ],
   "source": [
    "results = pd.DataFrame.from_dict(exp , orient= 'index')\n",
    "results.columns = ['rmse', 'mae']\n",
    "results.mae.idxmin()"
   ]
  }
 ]
}